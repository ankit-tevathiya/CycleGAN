{
  "cells": [
    {
      "cell_type": "markdown",
      "metadata": {
        "id": "E4v6rxBKYp7Z"
      },
      "source": [
        "# Download the dataset and supporting codes and pre-trained models"
      ]
    },
    {
      "cell_type": "markdown",
      "metadata": {
        "id": "kIMdTpeGg-Vw"
      },
      "source": [
        "https://drive.google.com/file/d/1D3m6I2S8xIvdOHBkvwSSFof5OTJZCDSt/view?usp=drivesdk\n",
        "\n",
        "https://drive.google.com/file/d/1CDRMyBA3Hk_gmbk1xkAm7aRHXBOQQigu/view?usp=drivesdk\n",
        "\n",
        "https://drive.google.com/file/d/1so6AQ0_Pg255COjAzEOOVPlDzTJFVQro/view?usp=drivesdk"
      ]
    },
    {
      "cell_type": "code",
      "execution_count": 1,
      "metadata": {
        "colab": {
          "base_uri": "https://localhost:8080/"
        },
        "id": "2CQQXc9JUUYU",
        "outputId": "a9d9c200-8e52-407d-e1c8-cb7e78122d6d",
        "vscode": {
          "languageId": "python"
        }
      },
      "outputs": [
        {
          "name": "stdout",
          "output_type": "stream",
          "text": [
            "Mounted at /content/drive\n"
          ]
        }
      ],
      "source": [
        "from google.colab import drive\n",
        "drive.mount('/content/drive')"
      ]
    },
    {
      "cell_type": "code",
      "execution_count": 1,
      "metadata": {
        "colab": {
          "base_uri": "https://localhost:8080/"
        },
        "id": "1soWoNVHudkV",
        "outputId": "f425cfb8-2c0a-4a27-b1a0-f7988af78e02",
        "vscode": {
          "languageId": "python"
        }
      },
      "outputs": [
        {
          "name": "stdout",
          "output_type": "stream",
          "text": [
            "/content/drive/MyDrive/CIS680-VAE-GANs\n"
          ]
        }
      ],
      "source": [
        "cd /content/drive/MyDrive/CIS680-VAE-GANs"
      ]
    },
    {
      "cell_type": "code",
      "execution_count": null,
      "metadata": {
        "id": "S-WfqFxo-gIm",
        "vscode": {
          "languageId": "python"
        }
      },
      "outputs": [],
      "source": [
        "!pip install torchvision==0.10.1\n",
        "!pip install torch==1.9.1 "
      ]
    },
    {
      "cell_type": "markdown",
      "metadata": {
        "id": "rT6-1Ax8YyQr"
      },
      "source": [
        "# CycleGAN training (TODO)"
      ]
    },
    {
      "cell_type": "code",
      "execution_count": 2,
      "metadata": {
        "colab": {
          "base_uri": "https://localhost:8080/"
        },
        "id": "3zQDWN_lMWJI",
        "outputId": "7730d7c9-c11a-4907-9628-96299dca33cc",
        "vscode": {
          "languageId": "python"
        }
      },
      "outputs": [
        {
          "name": "stdout",
          "output_type": "stream",
          "text": [
            "test case loss_D_A: 3.1760239601135254\n",
            "computed loss_D_A: 3.1760246753692627\n",
            "test case test_loss_GAN_AB: 3.164881467819214\n",
            "computed test_loss_GAN_AB: 3.164876937866211\n",
            "test case loss_cycle_A: 0.6627261638641357\n",
            "computed loss_cycle_A: 0.6627261638641357\n"
          ]
        },
        {
          "name": "stderr",
          "output_type": "stream",
          "text": [
            "/usr/local/lib/python3.8/dist-packages/torch/nn/modules/loss.py:528: UserWarning: Using a target size (torch.Size([1, 1, 8, 8])) that is different to the input size (torch.Size([8, 8])). This will likely lead to incorrect results due to broadcasting. Please ensure they have the same size.\n",
            "  return F.mse_loss(input, target, reduction=self.reduction)\n"
          ]
        }
      ],
      "source": [
        "import torch\n",
        "import pdb\n",
        "\n",
        "D_A = torch.load('test_case/D_A.pt')\n",
        "D_B = torch.load('test_case/D_B.pt')\n",
        "G_BA = torch.load('test_case/G_BA.pt')\n",
        "G_AB = torch.load('test_case/G_AB.pt')\n",
        "valid = torch.load('test_case/valid.pt')\n",
        "fake = torch.load('test_case/fake.pt')\n",
        "fake_A = torch.load('test_case/fake_A.pt')\n",
        "fake_B = torch.load('test_case/fake_B.pt')\n",
        "real_A = torch.load('test_case/real_A.pt')\n",
        "real_B = torch.load('test_case/real_B.pt')\n",
        "criterion_GAN = torch.load('test_case/criterion_GAN.pt')\n",
        "criterion_cycle = torch.load('test_case/criterion_cycle.pt')\n",
        "\n",
        "\n",
        "\n",
        "def loss_discriminator(fakefG, D, real2D, valid, fake, criterion_GAN):\n",
        "    '''\n",
        "    loss_discriminator function is applied to compute loss for discriminator D_A and D_B,\n",
        "    For example, we want to compute loss for D_A. The loss is consisted of two parts: \n",
        "    D(real_A) and D(G(real_B)). We want to penalize the distance between D(real_A) part and 1 and \n",
        "    distance between D(G(real_B)) part and 0. \n",
        "    We will want to first compute discriminator loss given real_A and valid, which is all 1.\n",
        "    Then we want to forward real_A through G_AB network to get fake image batch \n",
        "    and compute discriminator loss given fake batch and fake, which is all 0.\n",
        "    Finall, add up these two loss as the total discriminator loss.\n",
        "    '''\n",
        "\n",
        "    loss_D = criterion_GAN(torch.squeeze(D(real2D)),valid) + \\\n",
        "              criterion_GAN(torch.squeeze(D(fakefG.detach())),fake)  \n",
        "    return loss_D\n",
        "\n",
        "\n",
        "\n",
        "def loss_generator(G, real2G, D, valid, criterion_GAN):\n",
        "    '''\n",
        "    loss_generator function is applied to compute loss for both generator G_AB and G_BA:\n",
        "    For example, we want to compute the loss for G_AB.\n",
        "    real2G will be the real image in domain A, then we map real2G into domain B to get fake B,\n",
        "    then we compute the loss between D_B(fake_B) and valid, which is all 1.\n",
        "    The fake_B image will also be one of the outputs, since we want to use it in the loss_cycle_consis.\n",
        "    '''\n",
        "    fake_o_G = G(real2G)\n",
        "    loss_G = criterion_GAN(torch.squeeze(D_B(fake_o_G)),valid)\n",
        "    return loss_G, fake_o_G\n",
        "\n",
        "\n",
        "\n",
        "def loss_cycle_consis(G, fakefG, real, criterion_cycle):\n",
        "    '''\n",
        "    loss_cycle_consis function is applied to both cycle consistency loss:\n",
        "    between recovered A and original A,\n",
        "    between recovered B and original B.\n",
        "    For example, we want to compute the cycle consistency loss between recovered A and original A.\n",
        "    fake2G will be the generated image in domain B, then we map fake2G back into domain A to get recovered A,\n",
        "    then we compute the loss between recovered A and original A\n",
        "    '''\n",
        "    \n",
        "    loss_cycle = criterion_cycle(G(fakefG),real)   \n",
        "    return loss_cycle\n",
        "\n",
        "\n",
        "# # test case\n",
        "test_loss_GAN_AB = torch.load('test_case/loss_GAN_AB.pt')\n",
        "test_loss_cycle_A = torch.load('test_case/loss_cycle_A.pt')\n",
        "test_loss_D_A = torch.load('test_case/loss_D_A.pt')\n",
        "loss_GAN_AB, fake_B = loss_generator(G_AB, real_A, D_B, valid, criterion_GAN)\n",
        "loss_cycle_A = loss_cycle_consis(G_BA, fake_B, real_A, criterion_cycle)\n",
        "loss_D_A = loss_discriminator(fake_A, D_A, real_A, valid, fake, criterion_GAN)\n",
        "\n",
        "\n",
        "print('test case loss_D_A:', test_loss_D_A.item())\n",
        "print('computed loss_D_A:', loss_D_A.item())\n",
        "\n",
        "print('test case test_loss_GAN_AB:', test_loss_GAN_AB.item())\n",
        "print('computed test_loss_GAN_AB:', loss_GAN_AB.item())\n",
        "\n",
        "print('test case loss_cycle_A:', test_loss_cycle_A.item())\n",
        "print('computed loss_cycle_A:', loss_cycle_A.item())"
      ]
    },
    {
      "cell_type": "code",
      "execution_count": 5,
      "metadata": {
        "colab": {
          "base_uri": "https://localhost:8080/"
        },
        "id": "fsuRXKL7Wnh6",
        "outputId": "13893e63-7df8-4f94-b5ce-3c6eda5d15bd",
        "vscode": {
          "languageId": "python"
        }
      },
      "outputs": [
        {
          "name": "stdout",
          "output_type": "stream",
          "text": [
            "the length of training data: 19125\n"
          ]
        }
      ],
      "source": [
        "from datasets import *\n",
        "from models import *\n",
        "train_img_dir = './edges2shoes/train/'\n",
        "train_dataset = Edge2Shoe(train_img_dir)\n",
        "train_loader = data.DataLoader(train_dataset, batch_size=1)\n",
        "print('the length of training data:', len(train_dataset)) "
      ]
    },
    {
      "cell_type": "code",
      "execution_count": 55,
      "metadata": {
        "colab": {
          "base_uri": "https://localhost:8080/",
          "height": 1000
        },
        "id": "sM1-EnX11hXX",
        "outputId": "9326e49b-1c2b-42f9-d443-4f2e48b992de",
        "vscode": {
          "languageId": "python"
        }
      },
      "outputs": [
        {
          "name": "stdout",
          "output_type": "stream",
          "text": [
            "the length of training data: 19125\n"
          ]
        },
        {
          "data": {
            "image/png": "[encoded data removed]",
            "text/plain": [
              "<Figure size 360x360 with 4 Axes>"
            ]
          },
          "metadata": {
            "needs_background": "light"
          },
          "output_type": "display_data"
        },
        {
          "name": "stdout",
          "output_type": "stream",
          "text": [
            "Train Epoch: 1 0% \tTotal Loss: 6.223672 \tLoss_G_AB: 2.320094\tLoss_G_BA: 0.872928\tLoss_cycle: 0.359545\tLoss_D_A: 1.608220\tLoss_D_B: 2.659397\n",
            "0 9 T:  1.5992505550384521\n",
            "Train Epoch: 1 0% \tTotal Loss: 3.211393 \tLoss_G_AB: 1.580173\tLoss_G_BA: 0.659551\tLoss_cycle: 0.279714\tLoss_D_A: 0.309298\tLoss_D_B: 1.502519\n",
            "0 19 T:  1.0855627059936523\n",
            "Train Epoch: 1 0% \tTotal Loss: 1.783419 \tLoss_G_AB: 0.723911\tLoss_G_BA: 0.486458\tLoss_cycle: 0.237359\tLoss_D_A: 0.257192\tLoss_D_B: 0.683684\n",
            "0 29 T:  7.982452392578125\n",
            "Train Epoch: 1 0% \tTotal Loss: 1.266480 \tLoss_G_AB: 0.424886\tLoss_G_BA: 0.387150\tLoss_cycle: 0.259869\tLoss_D_A: 0.201908\tLoss_D_B: 0.398685\n",
            "0 39 T:  8.771798133850098\n",
            "Train Epoch: 1 0% \tTotal Loss: 1.198859 \tLoss_G_AB: 0.406999\tLoss_G_BA: 0.363115\tLoss_cycle: 0.285706\tLoss_D_A: 0.170330\tLoss_D_B: 0.357766\n",
            "0 49 T:  8.109130859375\n",
            "Train Epoch: 1 0% \tTotal Loss: 1.152545 \tLoss_G_AB: 0.351829\tLoss_G_BA: 0.381208\tLoss_cycle: 0.324092\tLoss_D_A: 0.165492\tLoss_D_B: 0.296441\n",
            "0 59 T:  8.038700819015503\n",
            "Train Epoch: 1 0% \tTotal Loss: 1.134967 \tLoss_G_AB: 0.358877\tLoss_G_BA: 0.382515\tLoss_cycle: 0.322821\tLoss_D_A: 0.122240\tLoss_D_B: 0.319211\n",
            "0 69 T:  7.856978893280029\n",
            "Train Epoch: 1 0% \tTotal Loss: 0.984833 \tLoss_G_AB: 0.308544\tLoss_G_BA: 0.291944\tLoss_cycle: 0.219922\tLoss_D_A: 0.125786\tLoss_D_B: 0.338880\n",
            "0 79 T:  8.183289527893066\n",
            "Train Epoch: 1 0% \tTotal Loss: 1.125166 \tLoss_G_AB: 0.344656\tLoss_G_BA: 0.301007\tLoss_cycle: 0.355325\tLoss_D_A: 0.113737\tLoss_D_B: 0.333273\n",
            "0 89 T:  7.870655536651611\n",
            "Train Epoch: 1 1% \tTotal Loss: 1.103369 \tLoss_G_AB: 0.346136\tLoss_G_BA: 0.379473\tLoss_cycle: 0.281812\tLoss_D_A: 0.085288\tLoss_D_B: 0.373464\n",
            "0 99 T:  8.115354299545288\n",
            "Train Epoch: 1 1% \tTotal Loss: 1.191969 \tLoss_G_AB: 0.302778\tLoss_G_BA: 0.590824\tLoss_cycle: 0.345448\tLoss_D_A: 0.090385\tLoss_D_B: 0.309335\n",
            "0 109 T:  8.106335878372192\n"
          ]
        },
        {
          "ename": "KeyboardInterrupt",
          "evalue": "ignored",
          "output_type": "error",
          "traceback": [
            "\u001b[0;31m---------------------------------------------------------------------------\u001b[0m",
            "\u001b[0;31mKeyboardInterrupt\u001b[0m                         Traceback (most recent call last)",
            "\u001b[0;32m<ipython-input-55-f836edec8a0e>\u001b[0m in \u001b[0;36m<module>\u001b[0;34m\u001b[0m\n\u001b[1;32m    107\u001b[0m \u001b[0;32mfor\u001b[0m \u001b[0me\u001b[0m \u001b[0;32min\u001b[0m \u001b[0mrange\u001b[0m\u001b[0;34m(\u001b[0m\u001b[0mnum_epochs\u001b[0m\u001b[0;34m)\u001b[0m\u001b[0;34m:\u001b[0m\u001b[0;34m\u001b[0m\u001b[0;34m\u001b[0m\u001b[0m\n\u001b[1;32m    108\u001b[0m     \u001b[0mstart\u001b[0m \u001b[0;34m=\u001b[0m \u001b[0mtime\u001b[0m\u001b[0;34m.\u001b[0m\u001b[0mtime\u001b[0m\u001b[0;34m(\u001b[0m\u001b[0;34m)\u001b[0m\u001b[0;34m\u001b[0m\u001b[0;34m\u001b[0m\u001b[0m\n\u001b[0;32m--> 109\u001b[0;31m     \u001b[0;32mfor\u001b[0m \u001b[0midx\u001b[0m\u001b[0;34m,\u001b[0m \u001b[0mdata\u001b[0m \u001b[0;32min\u001b[0m \u001b[0menumerate\u001b[0m\u001b[0;34m(\u001b[0m\u001b[0mtrain_loader\u001b[0m\u001b[0;34m)\u001b[0m\u001b[0;34m:\u001b[0m\u001b[0;34m\u001b[0m\u001b[0;34m\u001b[0m\u001b[0m\n\u001b[0m\u001b[1;32m    110\u001b[0m         \u001b[0;31m########## Process Inputs ##########\u001b[0m\u001b[0;34m\u001b[0m\u001b[0;34m\u001b[0m\u001b[0;34m\u001b[0m\u001b[0m\n\u001b[1;32m    111\u001b[0m         \u001b[0medge_tensor\u001b[0m\u001b[0;34m,\u001b[0m \u001b[0mrgb_tensor\u001b[0m \u001b[0;34m=\u001b[0m \u001b[0mdata\u001b[0m\u001b[0;34m\u001b[0m\u001b[0;34m\u001b[0m\u001b[0m\n",
            "\u001b[0;32m/usr/local/lib/python3.8/dist-packages/torch/utils/data/dataloader.py\u001b[0m in \u001b[0;36m__next__\u001b[0;34m(self)\u001b[0m\n\u001b[1;32m    519\u001b[0m             \u001b[0;32mif\u001b[0m \u001b[0mself\u001b[0m\u001b[0;34m.\u001b[0m\u001b[0m_sampler_iter\u001b[0m \u001b[0;32mis\u001b[0m \u001b[0;32mNone\u001b[0m\u001b[0;34m:\u001b[0m\u001b[0;34m\u001b[0m\u001b[0;34m\u001b[0m\u001b[0m\n\u001b[1;32m    520\u001b[0m                 \u001b[0mself\u001b[0m\u001b[0;34m.\u001b[0m\u001b[0m_reset\u001b[0m\u001b[0;34m(\u001b[0m\u001b[0;34m)\u001b[0m\u001b[0;34m\u001b[0m\u001b[0;34m\u001b[0m\u001b[0m\n\u001b[0;32m--> 521\u001b[0;31m             \u001b[0mdata\u001b[0m \u001b[0;34m=\u001b[0m \u001b[0mself\u001b[0m\u001b[0;34m.\u001b[0m\u001b[0m_next_data\u001b[0m\u001b[0;34m(\u001b[0m\u001b[0;34m)\u001b[0m\u001b[0;34m\u001b[0m\u001b[0;34m\u001b[0m\u001b[0m\n\u001b[0m\u001b[1;32m    522\u001b[0m             \u001b[0mself\u001b[0m\u001b[0;34m.\u001b[0m\u001b[0m_num_yielded\u001b[0m \u001b[0;34m+=\u001b[0m \u001b[0;36m1\u001b[0m\u001b[0;34m\u001b[0m\u001b[0;34m\u001b[0m\u001b[0m\n\u001b[1;32m    523\u001b[0m             \u001b[0;32mif\u001b[0m \u001b[0mself\u001b[0m\u001b[0;34m.\u001b[0m\u001b[0m_dataset_kind\u001b[0m \u001b[0;34m==\u001b[0m \u001b[0m_DatasetKind\u001b[0m\u001b[0;34m.\u001b[0m\u001b[0mIterable\u001b[0m \u001b[0;32mand\u001b[0m\u001b[0;31m \u001b[0m\u001b[0;31m\\\u001b[0m\u001b[0;34m\u001b[0m\u001b[0;34m\u001b[0m\u001b[0m\n",
            "\u001b[0;32m/usr/local/lib/python3.8/dist-packages/torch/utils/data/dataloader.py\u001b[0m in \u001b[0;36m_next_data\u001b[0;34m(self)\u001b[0m\n\u001b[1;32m    559\u001b[0m     \u001b[0;32mdef\u001b[0m \u001b[0m_next_data\u001b[0m\u001b[0;34m(\u001b[0m\u001b[0mself\u001b[0m\u001b[0;34m)\u001b[0m\u001b[0;34m:\u001b[0m\u001b[0;34m\u001b[0m\u001b[0;34m\u001b[0m\u001b[0m\n\u001b[1;32m    560\u001b[0m         \u001b[0mindex\u001b[0m \u001b[0;34m=\u001b[0m \u001b[0mself\u001b[0m\u001b[0;34m.\u001b[0m\u001b[0m_next_index\u001b[0m\u001b[0;34m(\u001b[0m\u001b[0;34m)\u001b[0m  \u001b[0;31m# may raise StopIteration\u001b[0m\u001b[0;34m\u001b[0m\u001b[0;34m\u001b[0m\u001b[0m\n\u001b[0;32m--> 561\u001b[0;31m         \u001b[0mdata\u001b[0m \u001b[0;34m=\u001b[0m \u001b[0mself\u001b[0m\u001b[0;34m.\u001b[0m\u001b[0m_dataset_fetcher\u001b[0m\u001b[0;34m.\u001b[0m\u001b[0mfetch\u001b[0m\u001b[0;34m(\u001b[0m\u001b[0mindex\u001b[0m\u001b[0;34m)\u001b[0m  \u001b[0;31m# may raise StopIteration\u001b[0m\u001b[0;34m\u001b[0m\u001b[0;34m\u001b[0m\u001b[0m\n\u001b[0m\u001b[1;32m    562\u001b[0m         \u001b[0;32mif\u001b[0m \u001b[0mself\u001b[0m\u001b[0;34m.\u001b[0m\u001b[0m_pin_memory\u001b[0m\u001b[0;34m:\u001b[0m\u001b[0;34m\u001b[0m\u001b[0;34m\u001b[0m\u001b[0m\n\u001b[1;32m    563\u001b[0m             \u001b[0mdata\u001b[0m \u001b[0;34m=\u001b[0m \u001b[0m_utils\u001b[0m\u001b[0;34m.\u001b[0m\u001b[0mpin_memory\u001b[0m\u001b[0;34m.\u001b[0m\u001b[0mpin_memory\u001b[0m\u001b[0;34m(\u001b[0m\u001b[0mdata\u001b[0m\u001b[0;34m)\u001b[0m\u001b[0;34m\u001b[0m\u001b[0;34m\u001b[0m\u001b[0m\n",
            "\u001b[0;32m/usr/local/lib/python3.8/dist-packages/torch/utils/data/_utils/fetch.py\u001b[0m in \u001b[0;36mfetch\u001b[0;34m(self, possibly_batched_index)\u001b[0m\n\u001b[1;32m     42\u001b[0m     \u001b[0;32mdef\u001b[0m \u001b[0mfetch\u001b[0m\u001b[0;34m(\u001b[0m\u001b[0mself\u001b[0m\u001b[0;34m,\u001b[0m \u001b[0mpossibly_batched_index\u001b[0m\u001b[0;34m)\u001b[0m\u001b[0;34m:\u001b[0m\u001b[0;34m\u001b[0m\u001b[0;34m\u001b[0m\u001b[0m\n\u001b[1;32m     43\u001b[0m         \u001b[0;32mif\u001b[0m \u001b[0mself\u001b[0m\u001b[0;34m.\u001b[0m\u001b[0mauto_collation\u001b[0m\u001b[0;34m:\u001b[0m\u001b[0;34m\u001b[0m\u001b[0;34m\u001b[0m\u001b[0m\n\u001b[0;32m---> 44\u001b[0;31m             \u001b[0mdata\u001b[0m \u001b[0;34m=\u001b[0m \u001b[0;34m[\u001b[0m\u001b[0mself\u001b[0m\u001b[0;34m.\u001b[0m\u001b[0mdataset\u001b[0m\u001b[0;34m[\u001b[0m\u001b[0midx\u001b[0m\u001b[0;34m]\u001b[0m \u001b[0;32mfor\u001b[0m \u001b[0midx\u001b[0m \u001b[0;32min\u001b[0m \u001b[0mpossibly_batched_index\u001b[0m\u001b[0;34m]\u001b[0m\u001b[0;34m\u001b[0m\u001b[0;34m\u001b[0m\u001b[0m\n\u001b[0m\u001b[1;32m     45\u001b[0m         \u001b[0;32melse\u001b[0m\u001b[0;34m:\u001b[0m\u001b[0;34m\u001b[0m\u001b[0;34m\u001b[0m\u001b[0m\n\u001b[1;32m     46\u001b[0m             \u001b[0mdata\u001b[0m \u001b[0;34m=\u001b[0m \u001b[0mself\u001b[0m\u001b[0;34m.\u001b[0m\u001b[0mdataset\u001b[0m\u001b[0;34m[\u001b[0m\u001b[0mpossibly_batched_index\u001b[0m\u001b[0;34m]\u001b[0m\u001b[0;34m\u001b[0m\u001b[0;34m\u001b[0m\u001b[0m\n",
            "\u001b[0;32m/usr/local/lib/python3.8/dist-packages/torch/utils/data/_utils/fetch.py\u001b[0m in \u001b[0;36m<listcomp>\u001b[0;34m(.0)\u001b[0m\n\u001b[1;32m     42\u001b[0m     \u001b[0;32mdef\u001b[0m \u001b[0mfetch\u001b[0m\u001b[0;34m(\u001b[0m\u001b[0mself\u001b[0m\u001b[0;34m,\u001b[0m \u001b[0mpossibly_batched_index\u001b[0m\u001b[0;34m)\u001b[0m\u001b[0;34m:\u001b[0m\u001b[0;34m\u001b[0m\u001b[0;34m\u001b[0m\u001b[0m\n\u001b[1;32m     43\u001b[0m         \u001b[0;32mif\u001b[0m \u001b[0mself\u001b[0m\u001b[0;34m.\u001b[0m\u001b[0mauto_collation\u001b[0m\u001b[0;34m:\u001b[0m\u001b[0;34m\u001b[0m\u001b[0;34m\u001b[0m\u001b[0m\n\u001b[0;32m---> 44\u001b[0;31m             \u001b[0mdata\u001b[0m \u001b[0;34m=\u001b[0m \u001b[0;34m[\u001b[0m\u001b[0mself\u001b[0m\u001b[0;34m.\u001b[0m\u001b[0mdataset\u001b[0m\u001b[0;34m[\u001b[0m\u001b[0midx\u001b[0m\u001b[0;34m]\u001b[0m \u001b[0;32mfor\u001b[0m \u001b[0midx\u001b[0m \u001b[0;32min\u001b[0m \u001b[0mpossibly_batched_index\u001b[0m\u001b[0;34m]\u001b[0m\u001b[0;34m\u001b[0m\u001b[0;34m\u001b[0m\u001b[0m\n\u001b[0m\u001b[1;32m     45\u001b[0m         \u001b[0;32melse\u001b[0m\u001b[0;34m:\u001b[0m\u001b[0;34m\u001b[0m\u001b[0;34m\u001b[0m\u001b[0m\n\u001b[1;32m     46\u001b[0m             \u001b[0mdata\u001b[0m \u001b[0;34m=\u001b[0m \u001b[0mself\u001b[0m\u001b[0;34m.\u001b[0m\u001b[0mdataset\u001b[0m\u001b[0;34m[\u001b[0m\u001b[0mpossibly_batched_index\u001b[0m\u001b[0;34m]\u001b[0m\u001b[0;34m\u001b[0m\u001b[0;34m\u001b[0m\u001b[0m\n",
            "\u001b[0;32m/content/datasets.py\u001b[0m in \u001b[0;36m__getitem__\u001b[0;34m(self, index)\u001b[0m\n\u001b[1;32m     15\u001b[0m \u001b[0;34m\u001b[0m\u001b[0m\n\u001b[1;32m     16\u001b[0m         \u001b[0;32mdef\u001b[0m \u001b[0m__getitem__\u001b[0m\u001b[0;34m(\u001b[0m\u001b[0mself\u001b[0m\u001b[0;34m,\u001b[0m \u001b[0mindex\u001b[0m\u001b[0;34m)\u001b[0m\u001b[0;34m:\u001b[0m\u001b[0;34m\u001b[0m\u001b[0;34m\u001b[0m\u001b[0m\n\u001b[0;32m---> 17\u001b[0;31m                 \u001b[0mimage\u001b[0m \u001b[0;34m=\u001b[0m \u001b[0mImage\u001b[0m\u001b[0;34m.\u001b[0m\u001b[0mopen\u001b[0m\u001b[0;34m(\u001b[0m\u001b[0mself\u001b[0m\u001b[0;34m.\u001b[0m\u001b[0mimage_list\u001b[0m\u001b[0;34m[\u001b[0m\u001b[0mindex\u001b[0m\u001b[0;34m]\u001b[0m\u001b[0;34m)\u001b[0m\u001b[0;34m.\u001b[0m\u001b[0mresize\u001b[0m\u001b[0;34m(\u001b[0m\u001b[0;34m(\u001b[0m\u001b[0;36m256\u001b[0m\u001b[0;34m,\u001b[0m\u001b[0;36m128\u001b[0m\u001b[0;34m)\u001b[0m\u001b[0;34m,\u001b[0m \u001b[0mresample\u001b[0m\u001b[0;34m=\u001b[0m\u001b[0mImage\u001b[0m\u001b[0;34m.\u001b[0m\u001b[0mBILINEAR\u001b[0m\u001b[0;34m)\u001b[0m\u001b[0;34m\u001b[0m\u001b[0;34m\u001b[0m\u001b[0m\n\u001b[0m\u001b[1;32m     18\u001b[0m                 \u001b[0mimage\u001b[0m \u001b[0;34m=\u001b[0m \u001b[0mnp\u001b[0m\u001b[0;34m.\u001b[0m\u001b[0masarray\u001b[0m\u001b[0;34m(\u001b[0m\u001b[0mimage\u001b[0m\u001b[0;34m)\u001b[0m\u001b[0;34m.\u001b[0m\u001b[0mtranspose\u001b[0m\u001b[0;34m(\u001b[0m\u001b[0;36m2\u001b[0m\u001b[0;34m,\u001b[0m\u001b[0;36m0\u001b[0m\u001b[0;34m,\u001b[0m\u001b[0;36m1\u001b[0m\u001b[0;34m)\u001b[0m\u001b[0;34m\u001b[0m\u001b[0;34m\u001b[0m\u001b[0m\n\u001b[1;32m     19\u001b[0m                 \u001b[0mimage_tensor\u001b[0m \u001b[0;34m=\u001b[0m \u001b[0mtorch\u001b[0m\u001b[0;34m.\u001b[0m\u001b[0mfrom_numpy\u001b[0m\u001b[0;34m(\u001b[0m\u001b[0mimage\u001b[0m\u001b[0;34m)\u001b[0m\u001b[0;34m.\u001b[0m\u001b[0mfloat\u001b[0m\u001b[0;34m(\u001b[0m\u001b[0;34m)\u001b[0m\u001b[0;34m\u001b[0m\u001b[0;34m\u001b[0m\u001b[0m\n",
            "\u001b[0;32m/usr/local/lib/python3.8/dist-packages/PIL/Image.py\u001b[0m in \u001b[0;36mopen\u001b[0;34m(fp, mode)\u001b[0m\n\u001b[1;32m   2850\u001b[0m         \u001b[0mexclusive_fp\u001b[0m \u001b[0;34m=\u001b[0m \u001b[0;32mTrue\u001b[0m\u001b[0;34m\u001b[0m\u001b[0;34m\u001b[0m\u001b[0m\n\u001b[1;32m   2851\u001b[0m \u001b[0;34m\u001b[0m\u001b[0m\n\u001b[0;32m-> 2852\u001b[0;31m     \u001b[0mprefix\u001b[0m \u001b[0;34m=\u001b[0m \u001b[0mfp\u001b[0m\u001b[0;34m.\u001b[0m\u001b[0mread\u001b[0m\u001b[0;34m(\u001b[0m\u001b[0;36m16\u001b[0m\u001b[0;34m)\u001b[0m\u001b[0;34m\u001b[0m\u001b[0;34m\u001b[0m\u001b[0m\n\u001b[0m\u001b[1;32m   2853\u001b[0m \u001b[0;34m\u001b[0m\u001b[0m\n\u001b[1;32m   2854\u001b[0m     \u001b[0mpreinit\u001b[0m\u001b[0;34m(\u001b[0m\u001b[0;34m)\u001b[0m\u001b[0;34m\u001b[0m\u001b[0;34m\u001b[0m\u001b[0m\n",
            "\u001b[0;31mKeyboardInterrupt\u001b[0m: "
          ]
        }
      ],
      "source": [
        "import warnings\n",
        "warnings.filterwarnings(\"ignore\")\n",
        "from torch.autograd import Variable\n",
        "from torch.utils import data\n",
        "from torch.utils.data import DataLoader, TensorDataset\n",
        "from torch import nn, optim\n",
        "from datasets import *\n",
        "from models import *\n",
        "import argparse, os\n",
        "import itertools\n",
        "import torch\n",
        "import time\n",
        "import pdb\n",
        "import matplotlib.pyplot as plt\n",
        "\n",
        "\n",
        "# Training Configurations\n",
        "# (You may put your needed configuration here. Please feel free to add more or use argparse. )\n",
        "train_img_dir = './edges2shoes/train/'\n",
        "img_shape = (3, 128, 128)\n",
        "n_residual_blocks = 6\n",
        "num_epochs = 2\n",
        "batch_size = 1\n",
        "lr_rate = 0.0002      # Adam optimizer learning rate\n",
        "betas = (0.5, 0.999)  # Adam optimizer beta 1, beta 2\n",
        "lambda_cyc = 10.0 \t  # cycle loss weight\n",
        "latent_dim = 8        # latent dimension for the encoded images from domain B\n",
        "report_feq = 10        # Visualize image every 'report_feq' iters\n",
        "visual_feq = 1000\n",
        "save_feq = 1000      # Save models every 'save_feq' iters\n",
        "\n",
        "# Random seeds (optional)\n",
        "torch.manual_seed(1); np.random.seed(1)\n",
        "\n",
        "# set device\n",
        "device = torch.device(\"cuda:0\" if torch.cuda.is_available() else \"cpu\")\n",
        "\n",
        "# Normalize image tensor\n",
        "def norm(image):\n",
        "    return (image/255.0-0.5)*2.0\n",
        "\n",
        "# Denormalize image tensor\n",
        "def denorm(tensor):\n",
        "    return ((tensor+1.0)/2.0)*255.0\n",
        "\n",
        "# train_dataset = Edge2Shoe(train_img_dir)\n",
        "# train_loader = data.DataLoader(train_dataset, batch_size=batch_size)\n",
        "print('the length of training data:', len(train_dataset))\n",
        "# Losses\n",
        "criterion_GAN = torch.nn.MSELoss()\n",
        "criterion_cycle = torch.nn.L1Loss()\n",
        "\n",
        "cuda = torch.cuda.is_available()\n",
        "\n",
        "input_shape = img_shape\n",
        "\n",
        "# Initialize generator and discriminator\n",
        "G_AB = GeneratorResNet(input_shape, n_residual_blocks)\n",
        "G_BA = GeneratorResNet(input_shape, n_residual_blocks)\n",
        "D_A = Discriminator(input_shape)\n",
        "D_B = Discriminator(input_shape)\n",
        "\n",
        "\n",
        "if cuda:\n",
        "    G_AB = G_AB.to(device)\n",
        "    G_BA = G_BA.to(device)\n",
        "    D_A = D_A.to(device)\n",
        "    D_B = D_B.to(device)\n",
        "    criterion_GAN.to(device)\n",
        "    criterion_cycle.to(device)\n",
        "\n",
        "# Initialize weights\n",
        "G_AB.apply(weights_init_normal)\n",
        "G_BA.apply(weights_init_normal)\n",
        "D_A.apply(weights_init_normal)\n",
        "D_B.apply(weights_init_normal)\n",
        "\n",
        "\n",
        "# Define optimizer\n",
        "optimizer_G = torch.optim.Adam(itertools.chain(G_AB.parameters(), G_BA.parameters()), lr=lr_rate, betas=betas)\n",
        "optimizer_D_A = torch.optim.Adam(D_A.parameters(), lr=lr_rate, betas=betas)\n",
        "optimizer_D_B = torch.optim.Adam(D_B.parameters(), lr=lr_rate, betas=betas)\n",
        "\n",
        "# For adversarial loss\n",
        "Tensor = torch.cuda.FloatTensor if cuda else torch.Tensor\n",
        "\n",
        "# loss recorder\n",
        "running_loss_D_A = 0\n",
        "running_loss_D_B = 0\n",
        "running_loss_GAN_AB = 0\n",
        "running_loss_GAN_BA = 0\n",
        "running_loss_cycle = 0\n",
        "running_total_loss = 0\n",
        "\n",
        "list_loss_D_A = []\n",
        "list_loss_D_B = []\n",
        "list_loss_GAN_AB = []\n",
        "list_loss_GAN_BA = []\n",
        "list_loss_cycle = []\n",
        "list_total_loss = []\n",
        "\n",
        "num_epochs = 1\n",
        "# Training\n",
        "total_steps = len(train_loader)*num_epochs; step = 0\n",
        "for e in range(num_epochs):\n",
        "    start = time.time()\n",
        "    for idx, data in enumerate(train_loader):\n",
        "        ########## Process Inputs ##########\n",
        "        edge_tensor, rgb_tensor = data\n",
        "        edge_tensor, rgb_tensor = norm(edge_tensor).to(device), norm(rgb_tensor).to(device)\n",
        "        real_A = edge_tensor; real_B = rgb_tensor;\n",
        "\n",
        "        # Adversarial ground truths\n",
        "        valid = Variable(Tensor(np.ones((real_A.size(0), *D_A.output_shape))), requires_grad=False)\n",
        "        fake = Variable(Tensor(np.zeros((real_A.size(0), *D_A.output_shape))), requires_grad=False)\n",
        "\n",
        "        # ------------------\n",
        "        #  Train Generators\n",
        "        # ------------------\n",
        "        G_AB.train(); G_BA.train()\n",
        "        optimizer_G.zero_grad()\n",
        "\n",
        "        # Generator loss\n",
        "        loss_GAN_AB, fake_B = loss_generator(G_AB, real_A, D_B, valid, criterion_GAN)\n",
        "        loss_GAN_BA, fake_A = loss_generator(G_BA, real_B, D_A, valid, criterion_GAN)\n",
        "        loss_GAN = (loss_GAN_AB + loss_GAN_BA) / 2\n",
        "\n",
        "        # Cycle loss\n",
        "        loss_cycle_A = loss_cycle_consis(G_BA, fake_B, real_A, criterion_cycle)\n",
        "        loss_cycle_B = loss_cycle_consis(G_AB, fake_A, real_B, criterion_cycle)\n",
        "        loss_cycle = (loss_cycle_A + loss_cycle_B) / 2\n",
        "\n",
        "        # Total loss\n",
        "        loss_G = loss_GAN + lambda_cyc * loss_cycle\n",
        "\n",
        "        loss_G.backward()\n",
        "        optimizer_G.step()\n",
        "\n",
        "\n",
        "        # -----------------------\n",
        "        #  Train Discriminator A\n",
        "        # -----------------------\n",
        "\n",
        "        optimizer_D_A.zero_grad()\n",
        "\n",
        "        # function to compute loss_D_A\n",
        "        loss_D_A = loss_discriminator(fake_A, D_A, real_A, valid, fake, criterion_GAN)\n",
        "        loss_D_A = loss_D_A / 2\n",
        "        # update the D_A network\n",
        "        loss_D_A.backward()\n",
        "        optimizer_D_A.step()\n",
        "\n",
        "\n",
        "        # -----------------------\n",
        "        #  Train Discriminator B\n",
        "        # -----------------------\n",
        "        optimizer_D_B.zero_grad()\n",
        "\n",
        "        # function to compute loss_D_A\n",
        "        loss_D_B = loss_discriminator(fake_B, D_B, real_B, valid, fake, criterion_GAN)\n",
        "        loss_D_B = loss_D_B / 2\n",
        "        # update the D_B network\n",
        "        loss_D_B.backward()\n",
        "        optimizer_D_B.step()\n",
        "\n",
        "\n",
        "        running_total_loss += (loss_GAN + lambda_cyc * loss_cycle + loss_D_A + loss_D_B).item()\n",
        "\n",
        "        running_loss_GAN_AB += loss_GAN_AB.item()\n",
        "        running_loss_GAN_BA += loss_GAN_BA.item()\n",
        "        running_loss_D_A += loss_D_A.item()\n",
        "        running_loss_D_B += loss_D_B.item()\n",
        "        running_loss_cycle += lambda_cyc * loss_cycle.item()\n",
        "\n",
        "        list_loss_D_A.append(loss_D_A.item())\n",
        "        list_loss_D_B.append(loss_D_B.item())\n",
        "        list_loss_GAN_AB.append(loss_GAN_AB.item())\n",
        "        list_loss_GAN_BA.append(loss_GAN_BA.item())\n",
        "        list_loss_cycle.append(lambda_cyc * loss_cycle.item())\n",
        "        list_total_loss.append((loss_GAN + lambda_cyc * loss_cycle + loss_D_A + loss_D_B).item())\n",
        "\n",
        "        ########## Visualization ##########\n",
        "        if step % report_feq == report_feq-1:\n",
        "            print('Train Epoch: {} {:.0f}% \\tTotal Loss: {:.6f} \\tLoss_G_AB: {:.6f}\\tLoss_G_BA: {:.6f}\\tLoss_cycle: {:.6f}\\tLoss_D_A: {:.6f}\\tLoss_D_B: {:.6f}'.format\n",
        "                    (e+1, 100. * idx / len(train_loader), running_total_loss / report_feq, \n",
        "                    running_loss_GAN_AB/report_feq, running_loss_GAN_BA/report_feq, \n",
        "                    running_loss_cycle/report_feq, running_loss_D_A/report_feq, \n",
        "                    running_loss_D_B/report_feq))\n",
        "            running_loss_D_A = 0\n",
        "            running_loss_D_B = 0\n",
        "            running_loss_GAN_AB = 0\n",
        "            running_loss_GAN_BA = 0\n",
        "            running_loss_cycle = 0\n",
        "            running_total_loss = 0\n",
        "            end = time.time()\n",
        "            print(e, step, 'T: ', end-start)\n",
        "            start = end\n",
        "        ########## Visualize Generated images ##########\n",
        "        if step % visual_feq == 0:\n",
        "            vis_fake_A = denorm(fake_A[0].detach()).cpu().data.numpy().astype(np.uint8)\n",
        "            vis_fake_B = denorm(fake_B[0].detach()).cpu().data.numpy().astype(np.uint8)\n",
        "            vis_real_B = denorm(real_B[0].detach()).cpu().data.numpy().astype(np.uint8)\n",
        "            vis_real_A = denorm(real_A[0].detach()).cpu().data.numpy().astype(np.uint8)\n",
        "            fig, axs = plt.subplots(2,2, figsize = (5,5))\t\n",
        "            \n",
        "            axs[0,0].imshow(vis_real_A.transpose(1,2,0))\n",
        "            axs[0,0].set_title('real images')\n",
        "            axs[0,1].imshow(vis_fake_B.transpose(1,2,0))\n",
        "            axs[0,1].set_title('generated images')\n",
        "            axs[1,0].imshow(vis_real_B.transpose(1,2,0))\n",
        "            axs[1,1].imshow(vis_fake_A.transpose(1,2,0))\n",
        "            plt.show()\n",
        "        ########## Save Generators ##########\n",
        "        if step % save_feq == save_feq-1:\n",
        "            # if not os.path.exists('models'): os.mkdir('models')\n",
        "            torch.save(G_AB, '/content/drive/MyDrive/CIS680-VAE-GANs/models/G_AB_f.pt')\n",
        "            torch.save(G_BA, '/content/drive/MyDrive/CIS680-VAE-GANs/models/G_BA_f.pt')\n",
        "            # feel free to save checkpoint if you need retrain the model...\n",
        "\n",
        "        step += 1"
      ]
    },
    {
      "cell_type": "code",
      "execution_count": 53,
      "metadata": {
        "colab": {
          "base_uri": "https://localhost:8080/",
          "height": 1000
        },
        "id": "SCMvpYeLAS1k",
        "outputId": "dfc99d24-1add-4720-b3c6-5adbf68e32f2",
        "vscode": {
          "languageId": "python"
        }
      },
      "outputs": [
        {
          "data": {
            "image/png": "[encoded data removed]",
            "text/plain": [
              "<Figure size 432x288 with 1 Axes>"
            ]
          },
          "metadata": {
            "needs_background": "light"
          },
          "output_type": "display_data"
        },
        {
          "data": {
            "image/png": "[encoded data removed]",
            "text/plain": [
              "<Figure size 432x288 with 1 Axes>"
            ]
          },
          "metadata": {
            "needs_background": "light"
          },
          "output_type": "display_data"
        },
        {
          "data": {
            "image/png": "[encoded data removed]",
            "text/plain": [
              "<Figure size 432x288 with 1 Axes>"
            ]
          },
          "metadata": {
            "needs_background": "light"
          },
          "output_type": "display_data"
        },
        {
          "data": {
            "image/png": "[encoded data removed]",
            "text/plain": [
              "<Figure size 432x288 with 1 Axes>"
            ]
          },
          "metadata": {
            "needs_background": "light"
          },
          "output_type": "display_data"
        }
      ],
      "source": [
        "plt.plot(list_loss_GAN_AB,label=\"G_AB\",color='b')\n",
        "plt.plot(list_loss_D_A,label=\"D_A\",color='orange')\n",
        "plt.title(\"Generator and Discriminator Loss During Training\")\n",
        "plt.xlabel(\"iterations\")\n",
        "plt.ylabel(\"Loss\")\n",
        "plt.legend()\n",
        "plt.show()\n",
        "\n",
        "plt.title(\"Generator and Discriminator Loss During Training\")\n",
        "plt.plot(list_loss_GAN_BA,label=\"G_BA\",color='darkblue')\n",
        "plt.plot(list_loss_D_B,label=\"D_B\",color='lightblue')\n",
        "plt.xlabel(\"iterations\")\n",
        "plt.ylabel(\"Loss\")\n",
        "plt.legend()\n",
        "plt.show()\n",
        "\n",
        "plt.title(\"Total Loss During Training\")\n",
        "plt.plot(list_total_loss,label=\"Total Loss\")\n",
        "plt.xlabel(\"iterations\")\n",
        "plt.ylabel(\"Loss\")\n",
        "plt.legend()\n",
        "plt.show()\n",
        "\n",
        "plt.title(\"Cycle Loss During Training\")\n",
        "plt.plot(list_loss_cycle,label=\"Cycle Loss\")\n",
        "plt.xlabel(\"iterations\")\n",
        "plt.ylabel(\"Loss\")\n",
        "plt.legend()\n",
        "plt.show()"
      ]
    },
    {
      "cell_type": "code",
      "execution_count": 54,
      "metadata": {
        "colab": {
          "base_uri": "https://localhost:8080/",
          "height": 1000
        },
        "id": "PjdtPoD6X23H",
        "outputId": "da50ff5b-7c17-4653-a0f5-4aae35574f04",
        "vscode": {
          "languageId": "python"
        }
      },
      "outputs": [
        {
          "data": {
            "image/png": "[encoded data removed]",
            "text/plain": [
              "<Figure size 432x288 with 1 Axes>"
            ]
          },
          "metadata": {
            "needs_background": "light"
          },
          "output_type": "display_data"
        },
        {
          "data": {
            "image/png": "[encoded data removed]",
            "text/plain": [
              "<Figure size 432x288 with 1 Axes>"
            ]
          },
          "metadata": {
            "needs_background": "light"
          },
          "output_type": "display_data"
        },
        {
          "data": {
            "image/png": "[encoded data removed]",
            "text/plain": [
              "<Figure size 432x288 with 1 Axes>"
            ]
          },
          "metadata": {
            "needs_background": "light"
          },
          "output_type": "display_data"
        },
        {
          "data": {
            "image/png": "[encoded data removed]",
            "text/plain": [
              "<Figure size 432x288 with 1 Axes>"
            ]
          },
          "metadata": {
            "needs_background": "light"
          },
          "output_type": "display_data"
        }
      ],
      "source": [
        "\n",
        "plt.plot(list_loss_GAN_AB,label=\"G_AB\",color='b')\n",
        "plt.plot(list_loss_D_A,label=\"D_A\",color='orange')\n",
        "plt.xlim(0,38250)\n",
        "plt.title(\"Generator and Discriminator Loss During Training\")\n",
        "plt.xlabel(\"iterations\")\n",
        "plt.ylabel(\"Loss\")\n",
        "plt.legend()\n",
        "plt.show()\n",
        "\n",
        "plt.title(\"Generator and Discriminator Loss During Training\")\n",
        "plt.plot(list_loss_GAN_BA,label=\"G_BA\",color='darkblue')\n",
        "plt.plot(list_loss_D_B,label=\"D_B\",color='lightblue')\n",
        "plt.xlim(0,38250)\n",
        "plt.xlabel(\"iterations\")\n",
        "plt.ylabel(\"Loss\")\n",
        "plt.legend()\n",
        "plt.show()\n",
        "\n",
        "plt.title(\"Total Loss During Training\")\n",
        "plt.plot(list_total_loss,label=\"Total Loss\")\n",
        "plt.xlim(0,38250)\n",
        "plt.xlabel(\"iterations\")\n",
        "plt.ylabel(\"Loss\")\n",
        "plt.legend()\n",
        "plt.show()\n",
        "\n",
        "plt.title(\"Cycle Loss During Training\")\n",
        "plt.plot(list_loss_cycle,label=\"Cycle Loss\")\n",
        "plt.xlim(0,38250)\n",
        "plt.xlabel(\"iterations\")\n",
        "plt.ylabel(\"Loss\")\n",
        "plt.legend()\n",
        "plt.show()\n",
        "\n",
        "# "
      ]
    },
    {
      "cell_type": "markdown",
      "metadata": {
        "id": "yx1sPwiu_04L"
      },
      "source": [
        "# CycleGAN testing (TODO)"
      ]
    },
    {
      "cell_type": "code",
      "execution_count": 80,
      "metadata": {
        "id": "t_5OoGMfKFuU",
        "vscode": {
          "languageId": "python"
        }
      },
      "outputs": [],
      "source": [
        "from torch.utils.data import DataLoader, TensorDataset\n",
        "test_batch_size = 1\n",
        "test_img_dir = './edges2shoes/val/'\n",
        "test_dataset = Edge2Shoe(test_img_dir)\n",
        "test_loader = DataLoader(test_dataset, batch_size=test_batch_size)"
      ]
    },
    {
      "cell_type": "code",
      "execution_count": 57,
      "metadata": {
        "id": "naYmwWpq9Eg_",
        "vscode": {
          "languageId": "python"
        }
      },
      "outputs": [],
      "source": [
        "device = torch.device(\"cuda:0\" if torch.cuda.is_available() else \"cpu\")\n",
        "G_AB = torch.load('/content/drive/MyDrive/CIS680-VAE-GANs/models/G_AB.pt')\n",
        "G_BA = torch.load('/content/drive/MyDrive/CIS680-VAE-GANs/models/G_BA.pt')\n",
        "if cuda:\n",
        "    G_AB = G_AB.to(device)\n",
        "    G_BA = G_BA.to(device)"
      ]
    },
    {
      "cell_type": "code",
      "execution_count": null,
      "metadata": {
        "id": "viI_Uj6P88Vk",
        "vscode": {
          "languageId": "python"
        }
      },
      "outputs": [],
      "source": [
        "G_AB.eval()\n",
        "G_BA.eval()\n",
        "with torch.no_grad():\n",
        "  c = 0\n",
        "  for data in test_loader:\n",
        "      edge_tensor, rgb_tensor = data\n",
        "      edge_tensor, rgb_tensor = norm(edge_tensor).to(device), norm(rgb_tensor).to(device)\n",
        "      real_A = edge_tensor; real_B = rgb_tensor;\n",
        "      fake_B = G_AB(real_A)\n",
        "      fake_A = G_BA(real_B)\n",
        "      ################################\n",
        "      # Please visualize real_edge, fake_shoe, real_shoe, fake_edge in 2-by-2 grids:\n",
        "      vis_fake_A = denorm(fake_A[0].detach()).cpu().data.numpy().astype(np.uint8)\n",
        "      vis_fake_B = denorm(fake_B[0].detach()).cpu().data.numpy().astype(np.uint8)\n",
        "      vis_real_B = denorm(real_B[0].detach()).cpu().data.numpy().astype(np.uint8)\n",
        "      vis_real_A = denorm(real_A[0].detach()).cpu().data.numpy().astype(np.uint8)\n",
        "      fig, axs = plt.subplots(2,2, figsize = (5,5))\t\n",
        "      axs[0,0].imshow(vis_real_A.transpose(1,2,0))\n",
        "      axs[0,0].set_title('real images')\n",
        "      axs[0,1].imshow(vis_fake_B.transpose(1,2,0))\n",
        "      axs[0,1].set_title('generated images')\n",
        "      axs[1,0].imshow(vis_real_B.transpose(1,2,0))\n",
        "      axs[1,1].imshow(vis_fake_A.transpose(1,2,0),cmap='gray')\n",
        "      plt.show()\n",
        "      ################################   \n",
        "      c += 1\n",
        "      if c == 20:\n",
        "        break"
      ]
    },
    {
      "cell_type": "markdown",
      "metadata": {
        "id": "vnLrUjjVfxA-"
      },
      "source": [
        "# Quantitative Evaluation"
      ]
    },
    {
      "cell_type": "markdown",
      "metadata": {
        "id": "c-T0HP1fBO1j"
      },
      "source": [
        "## FID Score computation"
      ]
    },
    {
      "cell_type": "markdown",
      "metadata": {
        "id": "Wgxl2Y9gsJ8_"
      },
      "source": [
        "First, we have to create 6 datasets:\n",
        "- Domain A real set 1\n",
        "- Domain A real set 2\n",
        "- Domain A generate set\n",
        "\n",
        "- Domain B real set 1\n",
        "- Domain B real set 2\n",
        "- Domain B generate set\n",
        "\n"
      ]
    },
    {
      "cell_type": "markdown",
      "metadata": {
        "id": "hBkdwX3sf2qb"
      },
      "source": [
        "Create folder to save images and create dataset."
      ]
    },
    {
      "cell_type": "code",
      "execution_count": 30,
      "metadata": {
        "id": "RKIC1KfjvUsH",
        "vscode": {
          "languageId": "python"
        }
      },
      "outputs": [],
      "source": [
        "! mkdir real_A_1 real_A_2 gen_A\n",
        "! mkdir real_B_1 real_B_2 gen_B"
      ]
    },
    {
      "cell_type": "code",
      "execution_count": 31,
      "metadata": {
        "id": "oYMyd8CuBPJz",
        "vscode": {
          "languageId": "python"
        }
      },
      "outputs": [],
      "source": [
        "# First create test data loader\n",
        "from torch.utils.data import DataLoader, TensorDataset\n",
        "from torchvision.utils import save_image\n",
        "test_batch_size = 1\n",
        "test_img_dir = './edges2shoes/val/'\n",
        "test_dataset = Edge2Shoe(test_img_dir)\n",
        "test_loader = DataLoader(test_dataset, batch_size=test_batch_size)\n",
        "\n",
        "# indicate the device we will use\n",
        "device = torch.device(\"cuda:0\" if torch.cuda.is_available() else \"cpu\")\n",
        "\n",
        "# Load learnt Generator G_AB and G_BA\n",
        "# G_AB = torch.load('/content/models/G_AB.pt').to(device)\n",
        "# G_BA = torch.load('/content/models/G_BA.pt').to(device)\n",
        "\n",
        "# the size of dataset, we want to evaluate on\n",
        "evaluate_num = 100\n",
        "\n",
        "# make the gen data set and folder\n",
        "real_A_set_1 = []\n",
        "real_A_set_2 = []\n",
        "real_B_set_1 = []\n",
        "real_B_set_2 = []\n",
        "\n",
        "gen_set_A = []\n",
        "gen_set_B = []\n",
        "\n",
        "for idx, data in enumerate(test_loader, 0):\n",
        "    real_A, real_B = data\n",
        "    # plt.imshow(real_A.type(torch.uint8).squeeze(0).cpu().permute(1,2,0))\n",
        "    # plt.show()\n",
        "    real_A, real_B = norm(real_A).to(device), norm(real_B).to(device)\n",
        "    # plt.imshow(denorm(real_A).type(torch.uint8).squeeze(0).cpu().permute(1,2,0))\n",
        "    # plt.imshow(denorm(real_A).squeeze(0).cpu().permute(1,2,0))\n",
        "    # plt.show()\n",
        "    # print(real_A.shape)\n",
        "    \n",
        "    if idx < evaluate_num:\n",
        "        fake_A = G_BA(real_B)\n",
        "        fake_B = G_AB(real_A)\n",
        "        real_A_set_1.append(denorm(real_A.detach()))\n",
        "        real_B_set_1.append(denorm(real_B.detach()))\n",
        "        gen_set_A.append(denorm(fake_A.detach()))\n",
        "        gen_set_B.append(denorm(fake_B.detach()))\n",
        "        \n",
        "        # plt.imshow(data[0].type(torch.uint8).squeeze(0).permute(1,2,0))\n",
        "        # plt.imshow(denorm(real_A).squeeze(0).cpu().permute(1,2,0))\n",
        "        # plt.imshow(denorm(real_A).type(torch.uint8).squeeze(0).cpu().permute(1,2,0))\n",
        "        # plt.show()\n",
        "        plt.imsave('./real_A_1/real_A' + str(idx) + '.png', denorm(real_A).type(torch.uint8).cpu().squeeze().permute(1,2,0).numpy())\n",
        "        plt.imsave('./real_B_1/real_B' + str(idx) + '.png', denorm(real_B).type(torch.uint8).cpu().squeeze().permute(1,2,0).numpy())\n",
        "        plt.imsave('./gen_A/gen_A' + str(idx) + '.png', denorm(fake_A).type(torch.uint8).cpu().squeeze().permute(1,2,0).numpy())\n",
        "        plt.imsave('./gen_B/gen_B' + str(idx) + '.png', denorm(fake_B).type(torch.uint8).cpu().squeeze().permute(1,2,0).numpy())\n",
        "        # save_image(denorm(real_A).type(torch.uint8).squeeze(), './real_A_1/real_A' + str(idx) + '.png', normalize=False)\n",
        "\n",
        "        # save_image(denorm(real_B).detach().squeeze(), './real_B_1/real_B' + str(idx) + '.png', normalize=False)\n",
        "        # save_image(denorm(fake_A).detach().squeeze(), './gen_A/gen_A' + str(idx) + '.png', normalize=False)\n",
        "        # save_image(denorm(fake_B).detach().squeeze(), './gen_B/gen_B' + str(idx) + '.png', normalize=False)\n",
        "        # del real_A; del real_B; del fake_A; del fake_B\n",
        "\n",
        "    elif evaluate_num <= idx < 2*evaluate_num:\n",
        "        real_A_set_2.append(real_A.detach())\n",
        "        real_B_set_2.append(real_B.detach())\n",
        "        plt.imsave('./real_A_2/real_A' + str(idx) + '.png', denorm(real_A).type(torch.uint8).cpu().squeeze().permute(1,2,0).numpy())\n",
        "        plt.imsave('./real_B_2/real_B' + str(idx) + '.png', denorm(real_B).type(torch.uint8).cpu().squeeze().permute(1,2,0).numpy())\n",
        "        # save_image(denorm(real_A).detach().squeeze(), './real_A_2/real_A' + str(idx) + '.png', normalize=False)\n",
        "        # save_image(denorm(real_B).detach().squeeze(), './real_B_2/real_B' + str(idx) + '.png', normalize=False)\n",
        "    \n",
        "    if idx == 2*evaluate_num-1:\n",
        "        break\n",
        "# make 6 pytorch dataset\n",
        "real_A_dataset_1 = TensorDataset(torch.cat(real_A_set_1))\n",
        "real_A_dataset_2 = TensorDataset(torch.cat(real_A_set_2))\n",
        "real_B_dataset_1 = TensorDataset(torch.cat(real_B_set_1))\n",
        "real_B_dataset_2 = TensorDataset(torch.cat(real_B_set_2))\n",
        "gen_dataset_A = TensorDataset(torch.cat(gen_set_A))\n",
        "gen_dataset_B = TensorDataset(torch.cat(gen_set_B))\n",
        "\n"
      ]
    },
    {
      "cell_type": "markdown",
      "metadata": {
        "id": "OVQjy_tuGPdm"
      },
      "source": [
        "## Compute FID score"
      ]
    },
    {
      "cell_type": "code",
      "execution_count": 32,
      "metadata": {
        "colab": {
          "base_uri": "https://localhost:8080/"
        },
        "id": "7hJpNaRcGOQl",
        "outputId": "a8b2f92e-1047-4b72-96aa-6fa4c558a4f1",
        "vscode": {
          "languageId": "python"
        }
      },
      "outputs": [
        {
          "name": "stdout",
          "output_type": "stream",
          "text": [
            "Looking in indexes: https://pypi.org/simple, https://us-python.pkg.dev/colab-wheels/public/simple/\n",
            "Collecting pytorch-fid\n",
            "  Downloading pytorch-fid-0.2.1.tar.gz (14 kB)\n",
            "Requirement already satisfied: numpy in /usr/local/lib/python3.8/dist-packages (from pytorch-fid) (1.21.6)\n",
            "Requirement already satisfied: pillow in /usr/local/lib/python3.8/dist-packages (from pytorch-fid) (7.1.2)\n",
            "Requirement already satisfied: scipy in /usr/local/lib/python3.8/dist-packages (from pytorch-fid) (1.7.3)\n",
            "Requirement already satisfied: torch>=1.0.1 in /usr/local/lib/python3.8/dist-packages (from pytorch-fid) (1.9.1)\n",
            "Requirement already satisfied: torchvision>=0.2.2 in /usr/local/lib/python3.8/dist-packages (from pytorch-fid) (0.10.1)\n",
            "Requirement already satisfied: typing-extensions in /usr/local/lib/python3.8/dist-packages (from torch>=1.0.1->pytorch-fid) (4.1.1)\n",
            "Building wheels for collected packages: pytorch-fid\n",
            "  Building wheel for pytorch-fid (setup.py) ... \u001b[?25l\u001b[?25hdone\n",
            "  Created wheel for pytorch-fid: filename=pytorch_fid-0.2.1-py3-none-any.whl size=14834 sha256=9059d931be0d691111e2a3f5b55a4f083298246a835ecbd5e2839d8ab329f381\n",
            "  Stored in directory: /root/.cache/pip/wheels/df/c8/a0/cce2ed7671ae52be132ae836e429bba6148544f83b7962b4bc\n",
            "Successfully built pytorch-fid\n",
            "Installing collected packages: pytorch-fid\n",
            "Successfully installed pytorch-fid-0.2.1\n"
          ]
        }
      ],
      "source": [
        "! pip install pytorch-fid"
      ]
    },
    {
      "cell_type": "code",
      "execution_count": 35,
      "metadata": {
        "colab": {
          "base_uri": "https://localhost:8080/",
          "height": 37
        },
        "id": "G9Vv588562gu",
        "outputId": "32fe6cfe-0ae8-49ff-d2fb-9bc6139275f9",
        "vscode": {
          "languageId": "python"
        }
      },
      "outputs": [
        {
          "data": {
            "application/vnd.google.colaboratory.intrinsic+json": {
              "type": "string"
            },
            "text/plain": [
              "'/content/drive/MyDrive/CIS680-VAE-GANs'"
            ]
          },
          "execution_count": 35,
          "metadata": {},
          "output_type": "execute_result"
        }
      ],
      "source": [
        "pwd"
      ]
    },
    {
      "cell_type": "code",
      "execution_count": 36,
      "metadata": {
        "colab": {
          "base_uri": "https://localhost:8080/"
        },
        "id": "G2q_mIuDK8wP",
        "outputId": "5d519ec5-7208-4528-d451-d5787463669c",
        "vscode": {
          "languageId": "python"
        }
      },
      "outputs": [
        {
          "name": "stdout",
          "output_type": "stream",
          "text": [
            "computing FID score between real_edge_1 and real_edge_2\n",
            "Downloading: \"https://github.com/mseitzer/pytorch-fid/releases/download/fid_weights/pt_inception-2015-12-05-6726825d.pth\" to /root/.cache/torch/hub/checkpoints/pt_inception-2015-12-05-6726825d.pth\n",
            "100% 91.2M/91.2M [00:11<00:00, 8.06MB/s]\n",
            "100% 2/2 [00:00<00:00,  2.45it/s]\n",
            "100% 2/2 [00:00<00:00,  2.80it/s]\n",
            "FID:  50.28807868650463\n",
            "computing FID score between real_edge_1 and gen_edge\n",
            "100% 2/2 [00:00<00:00,  2.51it/s]\n",
            "100% 2/2 [00:00<00:00,  2.69it/s]\n",
            "FID:  204.71508670124132\n",
            "computing FID score between real_shoe_1 and real_shoe_2\n",
            "100% 2/2 [00:00<00:00,  2.50it/s]\n",
            "100% 2/2 [00:00<00:00,  2.69it/s]\n",
            "FID:  58.22357219081903\n",
            "computing FID score between real_shoe_1 and gen_shoe\n",
            "100% 2/2 [00:00<00:00,  2.13it/s]\n",
            "100% 2/2 [00:00<00:00,  2.55it/s]\n",
            "FID:  119.92031691093607\n"
          ]
        }
      ],
      "source": [
        "print('computing FID score between real_edge_1 and real_edge_2')\n",
        "! python -m pytorch_fid '/content/drive/MyDrive/CIS680-VAE-GANs/real_A_1' '/content/drive/MyDrive/CIS680-VAE-GANs/real_A_2' \n",
        "\n",
        "print('computing FID score between real_edge_1 and gen_edge')\n",
        "! python -m pytorch_fid '/content/drive/MyDrive/CIS680-VAE-GANs/real_A_1' '/content/drive/MyDrive/CIS680-VAE-GANs/gen_A' \n",
        "\n",
        "print('computing FID score between real_shoe_1 and real_shoe_2')\n",
        "! python -m pytorch_fid '/content/drive/MyDrive/CIS680-VAE-GANs/real_B_1' '/content/drive/MyDrive/CIS680-VAE-GANs/real_B_2' \n",
        "\n",
        "print('computing FID score between real_shoe_1 and gen_shoe')\n",
        "! python -m pytorch_fid '/content/drive/MyDrive/CIS680-VAE-GANs/real_B_1' '/content/drive/MyDrive/CIS680-VAE-GANs/gen_B' "
      ]
    },
    {
      "cell_type": "markdown",
      "metadata": {
        "id": "gNG7AkY_Gt61"
      },
      "source": [
        "## Compute IS score"
      ]
    },
    {
      "cell_type": "code",
      "execution_count": 34,
      "metadata": {
        "colab": {
          "base_uri": "https://localhost:8080/",
          "height": 222,
          "referenced_widgets": [
            "5dcdd19617ef4b5e97c5b3a55dc06253",
            "66de1dea959e467f906fbf7f2d2ddea4",
            "9872de4e7ad644c1a09395b74e128ac3",
            "53c605d3e55342d99759d85e53698032",
            "abef5dcca54e447887fe4693128b69a4",
            "017da4a3d32e40f4aca0ccace0128c20",
            "f70a57a2dff540ffb3e656f6ace8952c",
            "d8c318ce8d3a431483fb334de8b6bd68",
            "1b580326a29c4ca490ede806ea28e842",
            "8bc0b907a747459b887776cc584badd3",
            "f1c2ed306a7a443d92645ce10acb8ef6"
          ]
        },
        "id": "qC7FTAYHFGV2",
        "outputId": "4c845d02-bae7-451c-b607-56d1125742f4",
        "vscode": {
          "languageId": "python"
        }
      },
      "outputs": [
        {
          "name": "stdout",
          "output_type": "stream",
          "text": [
            "IS score for real_edge_1 data set:\n"
          ]
        },
        {
          "name": "stderr",
          "output_type": "stream",
          "text": [
            "Downloading: \"https://download.pytorch.org/models/inception_v3_google-0cc3c7bd.pth\" to /root/.cache/torch/hub/checkpoints/inception_v3_google-0cc3c7bd.pth\n"
          ]
        },
        {
          "data": {
            "application/vnd.jupyter.widget-view+json": {
              "model_id": "5dcdd19617ef4b5e97c5b3a55dc06253",
              "version_major": 2,
              "version_minor": 0
            },
            "text/plain": [
              "  0%|          | 0.00/104M [00:00<?, ?B/s]"
            ]
          },
          "metadata": {},
          "output_type": "display_data"
        },
        {
          "name": "stdout",
          "output_type": "stream",
          "text": [
            "(1.0016575655876638, 0.0)\n",
            "IS score for gen_edge data set:\n",
            "(1.0003983814072201, 0.0)\n",
            "IS score for real_shoe_1:\n",
            "(3.7136724571598463, 0.0)\n",
            "IS score for gen_shoe data set:\n",
            "(2.9470629043427787, 0.0)\n"
          ]
        }
      ],
      "source": [
        "from inception_score import inception_score\n",
        "import warnings\n",
        "warnings.filterwarnings(\"ignore\")\n",
        "\n",
        "print('IS score for real_edge_1 data set:')\n",
        "print(inception_score(real_A_dataset_1, cuda=True, batch_size=64, resize=True, splits=1))\n",
        "print('IS score for gen_edge data set:')\n",
        "print(inception_score(gen_dataset_A, cuda=True, batch_size=64, resize=True, splits=1))\n",
        "\n",
        "\n",
        "print('IS score for real_shoe_1:')\n",
        "print(inception_score(real_B_dataset_1, cuda=True, batch_size=64, resize=True, splits=1))\n",
        "print('IS score for gen_shoe data set:')\n",
        "print(inception_score(gen_dataset_B, cuda=True, batch_size=64, resize=True, splits=1))"
      ]
    },
    {
      "cell_type": "code",
      "execution_count": null,
      "metadata": {
        "id": "MJcwTlhcDvmE",
        "vscode": {
          "languageId": "python"
        }
      },
      "outputs": [],
      "source": []
    }
  ],
  "metadata": {
    "accelerator": "GPU",
    "colab": {
      "collapsed_sections": [
        "c-T0HP1fBO1j",
        "OVQjy_tuGPdm",
        "gNG7AkY_Gt61"
      ],
      "machine_shape": "hm",
      "provenance": []
    },
    "gpuClass": "standard",
    "kernelspec": {
      "display_name": "Python 3",
      "name": "python3"
    },
    "widgets": {
      "application/vnd.jupyter.widget-state+json": {
        "017da4a3d32e40f4aca0ccace0128c20": {
          "model_module": "@jupyter-widgets/base",
          "model_module_version": "1.2.0",
          "model_name": "LayoutModel",
          "state": {
            "_model_module": "@jupyter-widgets/base",
            "_model_module_version": "1.2.0",
            "_model_name": "LayoutModel",
            "_view_count": null,
            "_view_module": "@jupyter-widgets/base",
            "_view_module_version": "1.2.0",
            "_view_name": "LayoutView",
            "align_content": null,
            "align_items": null,
            "align_self": null,
            "border": null,
            "bottom": null,
            "display": null,
            "flex": null,
            "flex_flow": null,
            "grid_area": null,
            "grid_auto_columns": null,
            "grid_auto_flow": null,
            "grid_auto_rows": null,
            "grid_column": null,
            "grid_gap": null,
            "grid_row": null,
            "grid_template_areas": null,
            "grid_template_columns": null,
            "grid_template_rows": null,
            "height": null,
            "justify_content": null,
            "justify_items": null,
            "left": null,
            "margin": null,
            "max_height": null,
            "max_width": null,
            "min_height": null,
            "min_width": null,
            "object_fit": null,
            "object_position": null,
            "order": null,
            "overflow": null,
            "overflow_x": null,
            "overflow_y": null,
            "padding": null,
            "right": null,
            "top": null,
            "visibility": null,
            "width": null
          }
        },
        "1b580326a29c4ca490ede806ea28e842": {
          "model_module": "@jupyter-widgets/controls",
          "model_module_version": "1.5.0",
          "model_name": "ProgressStyleModel",
          "state": {
            "_model_module": "@jupyter-widgets/controls",
            "_model_module_version": "1.5.0",
            "_model_name": "ProgressStyleModel",
            "_view_count": null,
            "_view_module": "@jupyter-widgets/base",
            "_view_module_version": "1.2.0",
            "_view_name": "StyleView",
            "bar_color": null,
            "description_width": ""
          }
        },
        "53c605d3e55342d99759d85e53698032": {
          "model_module": "@jupyter-widgets/controls",
          "model_module_version": "1.5.0",
          "model_name": "HTMLModel",
          "state": {
            "_dom_classes": [],
            "_model_module": "@jupyter-widgets/controls",
            "_model_module_version": "1.5.0",
            "_model_name": "HTMLModel",
            "_view_count": null,
            "_view_module": "@jupyter-widgets/controls",
            "_view_module_version": "1.5.0",
            "_view_name": "HTMLView",
            "description": "",
            "description_tooltip": null,
            "layout": "IPY_MODEL_8bc0b907a747459b887776cc584badd3",
            "placeholder": "​",
            "style": "IPY_MODEL_f1c2ed306a7a443d92645ce10acb8ef6",
            "value": " 104M/104M [00:06&lt;00:00, 22.5MB/s]"
          }
        },
        "5dcdd19617ef4b5e97c5b3a55dc06253": {
          "model_module": "@jupyter-widgets/controls",
          "model_module_version": "1.5.0",
          "model_name": "HBoxModel",
          "state": {
            "_dom_classes": [],
            "_model_module": "@jupyter-widgets/controls",
            "_model_module_version": "1.5.0",
            "_model_name": "HBoxModel",
            "_view_count": null,
            "_view_module": "@jupyter-widgets/controls",
            "_view_module_version": "1.5.0",
            "_view_name": "HBoxView",
            "box_style": "",
            "children": [
              "IPY_MODEL_66de1dea959e467f906fbf7f2d2ddea4",
              "IPY_MODEL_9872de4e7ad644c1a09395b74e128ac3",
              "IPY_MODEL_53c605d3e55342d99759d85e53698032"
            ],
            "layout": "IPY_MODEL_abef5dcca54e447887fe4693128b69a4"
          }
        },
        "66de1dea959e467f906fbf7f2d2ddea4": {
          "model_module": "@jupyter-widgets/controls",
          "model_module_version": "1.5.0",
          "model_name": "HTMLModel",
          "state": {
            "_dom_classes": [],
            "_model_module": "@jupyter-widgets/controls",
            "_model_module_version": "1.5.0",
            "_model_name": "HTMLModel",
            "_view_count": null,
            "_view_module": "@jupyter-widgets/controls",
            "_view_module_version": "1.5.0",
            "_view_name": "HTMLView",
            "description": "",
            "description_tooltip": null,
            "layout": "IPY_MODEL_017da4a3d32e40f4aca0ccace0128c20",
            "placeholder": "​",
            "style": "IPY_MODEL_f70a57a2dff540ffb3e656f6ace8952c",
            "value": "100%"
          }
        },
        "8bc0b907a747459b887776cc584badd3": {
          "model_module": "@jupyter-widgets/base",
          "model_module_version": "1.2.0",
          "model_name": "LayoutModel",
          "state": {
            "_model_module": "@jupyter-widgets/base",
            "_model_module_version": "1.2.0",
            "_model_name": "LayoutModel",
            "_view_count": null,
            "_view_module": "@jupyter-widgets/base",
            "_view_module_version": "1.2.0",
            "_view_name": "LayoutView",
            "align_content": null,
            "align_items": null,
            "align_self": null,
            "border": null,
            "bottom": null,
            "display": null,
            "flex": null,
            "flex_flow": null,
            "grid_area": null,
            "grid_auto_columns": null,
            "grid_auto_flow": null,
            "grid_auto_rows": null,
            "grid_column": null,
            "grid_gap": null,
            "grid_row": null,
            "grid_template_areas": null,
            "grid_template_columns": null,
            "grid_template_rows": null,
            "height": null,
            "justify_content": null,
            "justify_items": null,
            "left": null,
            "margin": null,
            "max_height": null,
            "max_width": null,
            "min_height": null,
            "min_width": null,
            "object_fit": null,
            "object_position": null,
            "order": null,
            "overflow": null,
            "overflow_x": null,
            "overflow_y": null,
            "padding": null,
            "right": null,
            "top": null,
            "visibility": null,
            "width": null
          }
        },
        "9872de4e7ad644c1a09395b74e128ac3": {
          "model_module": "@jupyter-widgets/controls",
          "model_module_version": "1.5.0",
          "model_name": "FloatProgressModel",
          "state": {
            "_dom_classes": [],
            "_model_module": "@jupyter-widgets/controls",
            "_model_module_version": "1.5.0",
            "_model_name": "FloatProgressModel",
            "_view_count": null,
            "_view_module": "@jupyter-widgets/controls",
            "_view_module_version": "1.5.0",
            "_view_name": "ProgressView",
            "bar_style": "success",
            "description": "",
            "description_tooltip": null,
            "layout": "IPY_MODEL_d8c318ce8d3a431483fb334de8b6bd68",
            "max": 108949747,
            "min": 0,
            "orientation": "horizontal",
            "style": "IPY_MODEL_1b580326a29c4ca490ede806ea28e842",
            "value": 108949747
          }
        },
        "abef5dcca54e447887fe4693128b69a4": {
          "model_module": "@jupyter-widgets/base",
          "model_module_version": "1.2.0",
          "model_name": "LayoutModel",
          "state": {
            "_model_module": "@jupyter-widgets/base",
            "_model_module_version": "1.2.0",
            "_model_name": "LayoutModel",
            "_view_count": null,
            "_view_module": "@jupyter-widgets/base",
            "_view_module_version": "1.2.0",
            "_view_name": "LayoutView",
            "align_content": null,
            "align_items": null,
            "align_self": null,
            "border": null,
            "bottom": null,
            "display": null,
            "flex": null,
            "flex_flow": null,
            "grid_area": null,
            "grid_auto_columns": null,
            "grid_auto_flow": null,
            "grid_auto_rows": null,
            "grid_column": null,
            "grid_gap": null,
            "grid_row": null,
            "grid_template_areas": null,
            "grid_template_columns": null,
            "grid_template_rows": null,
            "height": null,
            "justify_content": null,
            "justify_items": null,
            "left": null,
            "margin": null,
            "max_height": null,
            "max_width": null,
            "min_height": null,
            "min_width": null,
            "object_fit": null,
            "object_position": null,
            "order": null,
            "overflow": null,
            "overflow_x": null,
            "overflow_y": null,
            "padding": null,
            "right": null,
            "top": null,
            "visibility": null,
            "width": null
          }
        },
        "d8c318ce8d3a431483fb334de8b6bd68": {
          "model_module": "@jupyter-widgets/base",
          "model_module_version": "1.2.0",
          "model_name": "LayoutModel",
          "state": {
            "_model_module": "@jupyter-widgets/base",
            "_model_module_version": "1.2.0",
            "_model_name": "LayoutModel",
            "_view_count": null,
            "_view_module": "@jupyter-widgets/base",
            "_view_module_version": "1.2.0",
            "_view_name": "LayoutView",
            "align_content": null,
            "align_items": null,
            "align_self": null,
            "border": null,
            "bottom": null,
            "display": null,
            "flex": null,
            "flex_flow": null,
            "grid_area": null,
            "grid_auto_columns": null,
            "grid_auto_flow": null,
            "grid_auto_rows": null,
            "grid_column": null,
            "grid_gap": null,
            "grid_row": null,
            "grid_template_areas": null,
            "grid_template_columns": null,
            "grid_template_rows": null,
            "height": null,
            "justify_content": null,
            "justify_items": null,
            "left": null,
            "margin": null,
            "max_height": null,
            "max_width": null,
            "min_height": null,
            "min_width": null,
            "object_fit": null,
            "object_position": null,
            "order": null,
            "overflow": null,
            "overflow_x": null,
            "overflow_y": null,
            "padding": null,
            "right": null,
            "top": null,
            "visibility": null,
            "width": null
          }
        },
        "f1c2ed306a7a443d92645ce10acb8ef6": {
          "model_module": "@jupyter-widgets/controls",
          "model_module_version": "1.5.0",
          "model_name": "DescriptionStyleModel",
          "state": {
            "_model_module": "@jupyter-widgets/controls",
            "_model_module_version": "1.5.0",
            "_model_name": "DescriptionStyleModel",
            "_view_count": null,
            "_view_module": "@jupyter-widgets/base",
            "_view_module_version": "1.2.0",
            "_view_name": "StyleView",
            "description_width": ""
          }
        },
        "f70a57a2dff540ffb3e656f6ace8952c": {
          "model_module": "@jupyter-widgets/controls",
          "model_module_version": "1.5.0",
          "model_name": "DescriptionStyleModel",
          "state": {
            "_model_module": "@jupyter-widgets/controls",
            "_model_module_version": "1.5.0",
            "_model_name": "DescriptionStyleModel",
            "_view_count": null,
            "_view_module": "@jupyter-widgets/base",
            "_view_module_version": "1.2.0",
            "_view_name": "StyleView",
            "description_width": ""
          }
        }
      }
    }
  },
  "nbformat": 4,
  "nbformat_minor": 0
}
